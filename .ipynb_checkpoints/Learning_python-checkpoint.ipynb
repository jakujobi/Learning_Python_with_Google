{
 "cells": [
  {
   "cell_type": "markdown",
   "id": "ca1e12ac-045f-401c-b759-2925e5425f30",
   "metadata": {},
   "source": [
    "This is my 3 attempt to learn python\n",
    "- First being in 2018\n",
    "- Second in 2020\n",
    "- Third in 2022 summer\n",
    "\n",
    "I want to create something in Django to build apps on the web"
   ]
  },
  {
   "cell_type": "code",
   "execution_count": 1,
   "id": "d5298ca1-e49b-4a83-893a-c585b2f23111",
   "metadata": {},
   "outputs": [
    {
     "name": "stdout",
     "output_type": "stream",
     "text": [
      "Welcome back to Python\n"
     ]
    }
   ],
   "source": [
    "print (\"Welcome back to Python\")"
   ]
  },
  {
   "cell_type": "markdown",
   "id": "2c4cf1ec-1b57-4755-8cc2-7e4414a13c90",
   "metadata": {},
   "source": [
    "So, a hello world back to python.\n",
    "I look forward to learning so much from this language"
   ]
  }
 ],
 "metadata": {
  "kernelspec": {
   "display_name": "Python 3 (ipykernel)",
   "language": "python",
   "name": "python3"
  },
  "language_info": {
   "codemirror_mode": {
    "name": "ipython",
    "version": 3
   },
   "file_extension": ".py",
   "mimetype": "text/x-python",
   "name": "python",
   "nbconvert_exporter": "python",
   "pygments_lexer": "ipython3",
   "version": "3.12.0"
  }
 },
 "nbformat": 4,
 "nbformat_minor": 5
}
