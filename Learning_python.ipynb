{
 "cells": [
  {
   "cell_type": "markdown",
   "id": "ca1e12ac-045f-401c-b759-2925e5425f30",
   "metadata": {},
   "source": [
    "This is my 3 attempt to learn python\n",
    "- First being in 2018\n",
    "- Second in 2020\n",
    "- Third in 2022 summer\n",
    "\n",
    "I want to create something in Django to build apps on the web"
   ]
  },
  {
   "cell_type": "code",
   "execution_count": 2,
   "id": "d5298ca1-e49b-4a83-893a-c585b2f23111",
   "metadata": {},
   "outputs": [
    {
     "name": "stdout",
     "output_type": "stream",
     "text": [
      "Welcgome back to Python\n"
     ]
    }
   ],
   "source": [
    "print (\"Welcome back to Python\")"
   ]
  },
  {
   "cell_type": "markdown",
   "id": "2c4cf1ec-1b57-4755-8cc2-7e4414a13c90",
   "metadata": {},
   "source": [
    "So, a hello world back to python.\n",
    "I look forward to learning so much from this language"
   ]
  },
  {
   "cell_type": "code",
   "execution_count": 4,
   "id": "01c53d91",
   "metadata": {},
   "outputs": [
    {
     "data": {
      "text/plain": [
       "7"
      ]
     },
     "execution_count": 4,
     "metadata": {},
     "output_type": "execute_result"
    }
   ],
   "source": [
    "1 + 1 + 5"
   ]
  },
  {
   "cell_type": "code",
   "execution_count": 1,
   "id": "b4b6b1fa",
   "metadata": {},
   "outputs": [
    {
     "name": "stdout",
     "output_type": "stream",
     "text": [
      "y is 10\n"
     ]
    }
   ],
   "source": [
    "y = 10\n",
    "\n",
    "if y == 10:\n",
    "    print(\"y is 10\")\n",
    "else:\n",
    "    print(\"y is not 10\")"
   ]
  },
  {
   "cell_type": "markdown",
   "id": "f5c2c385",
   "metadata": {},
   "source": [
    "### I should start the main course\n",
    "- [Python](https://www.python.org/)\n",
    "- [Django](https://www.djangoproject.com/)\n",
    "- [Google teaching](https://developers.google.com/edu/python/introduction)"
   ]
  },
  {
   "cell_type": "markdown",
   "id": "3d63a4ef",
   "metadata": {},
   "source": [
    "---\n",
    "- We can join stings together to print by using the `+`\n",
    "- len() is used to find the length of a string\n",
    "- variable.upper() is used to make a string uppercase\n",
    "- variable.lower() is used to make a string lowercase\n",
    "- variable.title() is used to make the first letter of a string uppercase\n",
    "- variable.strip() is used to remove whitespace from a string\n",
    "- variable.split() is used to split a string into a list\n",
    "- variable.join() is used to join a list into a string\n",
    "- variable.replace() is used to replace a string with another string\n",
    "\n",
    "- str(num) is used to convert a number into a string"
   ]
  },
  {
   "cell_type": "code",
   "execution_count": 3,
   "id": "c679c5ea",
   "metadata": {},
   "outputs": [
    {
     "name": "stdout",
     "output_type": "stream",
     "text": [
      "John Akujobi\n",
      "4\n",
      "JOHN\n",
      "John has 4 letters\n"
     ]
    }
   ],
   "source": [
    "firstname = \"John\"\n",
    "lastname = \"Akujobi\"\n",
    "sp = \" \"\n",
    "\n",
    "print(firstname + sp + lastname)\n",
    "\n",
    "print(len(firstname))\n",
    "\n",
    "print(firstname.upper()) #this makes the name uppercase\n",
    "\n",
    "print( firstname + \" has \" + str(len(firstname)) + \" letters\") "
   ]
  },
  {
   "cell_type": "markdown",
   "id": "77cb4ef7",
   "metadata": {},
   "source": [
    "---\n",
    "## How the hello.py program works\n",
    "- It prints \"Hello there, \" followed by the next input"
   ]
  },
  {
   "cell_type": "code",
   "execution_count": 7,
   "id": "428ef3c5",
   "metadata": {},
   "outputs": [
    {
     "name": "stdout",
     "output_type": "stream",
     "text": [
      "Hello There, c:\\Users\\akujo_2rtofyy\\AppData\\Local\\Programs\\Python\\Python312\\Lib\\site-packages\\ipykernel_launcher.py\n"
     ]
    }
   ],
   "source": [
    "import sys\n",
    "\n",
    "print('Hello There, ' + sys.argv[0])"
   ]
  },
  {
   "cell_type": "markdown",
   "id": "aeea20c2",
   "metadata": {},
   "source": [
    "---\n",
    "## How do we define the main function in Python\n",
    "- We use the `if __name__ == '__main__':` syntax\n",
    "if __name__ == '__main__':\n",
    "\n",
    "### Modules\n",
    "The outermost statements in the py file do it one time setup\n",
    "So, they practically set up the programs variables and functions\n",
    "Kind of like the main function in C and C++\n",
    "\n",
    "Py modules can be run on thier own, or they can be imported into other modules\n",
    "If the file is run directly, the variable `__name__` is set to `__main__`\n",
    "That code should be put above the call for the main function\n",
    "\n",
    "And if the file is imported, the variable `__name__` is set to the name of the file"
   ]
  },
  {
   "cell_type": "code",
   "execution_count": 16,
   "id": "532e2865",
   "metadata": {},
   "outputs": [
    {
     "name": "stdout",
     "output_type": "stream",
     "text": [
      "3\n"
     ]
    }
   ],
   "source": [
    "def add(x, y):\n",
    "    return x + y\n",
    "def main ():\n",
    "    x = 1\n",
    "    y = 2\n",
    "    print(add(x, y))\n",
    "\n",
    "if __name__ == \"__main__\":\n",
    "    main()"
   ]
  },
  {
   "cell_type": "markdown",
   "id": "d491b2fb",
   "metadata": {},
   "source": [
    "---\n",
    "## Functions in python\n",
    "- they use the def functionName ( parameters ): syntax\n",
    "- Lets write a function that takes the persons first name and last name, and returns their full name with the lastname first, then comma\n",
    "\n",
    "e.g. def personName(firstname, lastname):\n",
    "\n",
    "or def delayOp():\n",
    "    print(\"Please wait...\")\n",
    "    time.sleep(3)\n",
    "    print(\"Operation finished\")\n",
    "\n"
   ]
  },
  {
   "cell_type": "code",
   "execution_count": 11,
   "id": "075a2a18",
   "metadata": {},
   "outputs": [],
   "source": [
    "#This function swaps two variables\n",
    "def swap(x, y):\n",
    "    temp = x\n",
    "    x = y\n",
    "    y = temp\n",
    "    return x, y"
   ]
  },
  {
   "cell_type": "code",
   "execution_count": 14,
   "id": "fae01e36",
   "metadata": {},
   "outputs": [
    {
     "name": "stdout",
     "output_type": "stream",
     "text": [
      "Akujobi, John  Chidiebere\n",
      "JCA\n"
     ]
    }
   ],
   "source": [
    "def nameRefactor (firstname, middlename, lastname):\n",
    "    print (lastname + \", \" + firstname + \" \" + middlename)\n",
    "    return\n",
    "\n",
    "def nameInitialMaker (firstname, middlename, lastname):\n",
    "    initial = firstname[0] + middlename[0] + lastname[0]\n",
    "    print (initial)\n",
    "    return initial\n",
    "\n",
    "firstname = input(\"What is your first name?\")\n",
    "if firstname == \"\":\n",
    "    print (\"You did not enter a first name.\")\n",
    "else:\n",
    "    middlename = input(\"What is your middle name?\")\n",
    "    if middlename == \"\":\n",
    "        print (\"You did not enter a middle name.\")\n",
    "    else:\n",
    "        lastname = input(\"What is your last name?\")\n",
    "        if lastname == \"\":\n",
    "            print (\"You did not enter a last name.\")\n",
    "        else:\n",
    "            nameRefactor(firstname, middlename,lastname)\n",
    "            nameInitialMaker(firstname, middlename, lastname)"
   ]
  },
  {
   "cell_type": "markdown",
   "id": "9f0fff8a",
   "metadata": {},
   "source": [
    "---\n",
    "## Commonly used py packages\n",
    "We get these packages by using the `import` keyword\n",
    "\n",
    "Documentation for Standard Library\n",
    "[https://docs.python.org/3/library/](https://docs.python.org/3/library/)\n",
    "\n",
    "- *sys* — access to exit(), argv, stdin, stdout, and stderr\n",
    "    - exit() is used to exit the program\n",
    "    - argv is used to get the command line arguments\n",
    "    - stdin is used to get the input from the user\n",
    "    - stdout is used to print the output to the user\n",
    "    - stderr is used to print the error to the user\n",
    "\n",
    "- **os** — operating system interface used to get the environment variables\n",
    "    - os.environ is used to get the environment variables\n",
    "    - os.getcwd() is used to get the current working directory\n",
    "    - os.chdir() is used to change the current working directory\n",
    "    - os.listdir() is used to get the list of files in a directory\n",
    "    - os.mkdir() is used to make a directory\n",
    "    - os.rmdir() is used to remove a directory\n",
    "    - os.rename() is used to rename a file\n",
    "    - os.remove() is used to remove a file\n",
    "    - os.path.exists() is used to check if a file exists\n",
    "    - os.path.isfile() is used to check if a file is a file\n",
    "    - os.path.isdir() is used to check if a file is a directory\n",
    "    - os.path.join() is used to join two paths together\n",
    "    - os.path.split() is used to split a path into a directory and a file\n",
    "    - os.path.splitext() is used to split a path into a file and an extension\n",
    "    - os.path.basename() is used to get the file name from a path\n",
    "\n",
    "- **re** — regular expressions\n",
    "    - re.search() is used to search for a pattern in a string\n",
    "    - re.match() is used to match a pattern at the beginning of a string\n",
    "    - re.findall() is used to find all the occurrences of a pattern in a string\n",
    "    - re.sub() is used to replace a pattern in a string\n",
    "\n",
    "- **time** — time access and conversions\n",
    "    - time.time() is used to get the current time in seconds\n",
    "    - time.sleep() is used to pause the program for a number of seconds\n",
    "    - time.localtime() is used to get the current time in a time struct\n",
    "    - time.strftime() is used to convert a time struct into a string"
   ]
  },
  {
   "cell_type": "code",
   "execution_count": 39,
   "id": "adb528bd",
   "metadata": {},
   "outputs": [
    {
     "name": "stdout",
     "output_type": "stream",
     "text": [
      "Hello World!"
     ]
    },
    {
     "name": "stdout",
     "output_type": "stream",
     "text": [
      "\u001b[1;31mSignature:\u001b[0m \u001b[0mtypewriter\u001b[0m\u001b[1;33m(\u001b[0m\u001b[0mstring\u001b[0m\u001b[1;33m)\u001b[0m\u001b[1;33m\u001b[0m\u001b[1;33m\u001b[0m\u001b[0m\n",
      "\u001b[1;31mDocstring:\u001b[0m <no docstring>\n",
      "\u001b[1;31mFile:\u001b[0m      c:\\users\\akujo_2rtofyy\\appdata\\local\\temp\\ipykernel_34636\\1530920242.py\n",
      "\u001b[1;31mType:\u001b[0m      function"
     ]
    }
   ],
   "source": [
    "'''\n",
    "This program prints a string across the screen like a typewriter\n",
    "Kind of like the program we made in Dr Hamer's assembly language course\n",
    "'''\n",
    "\n",
    "import time\n",
    "\n",
    "def typewriter(string):\n",
    "    length = len(string)\n",
    "    i = 0\n",
    "    while i < length:\n",
    "        time.sleep(0.05)\n",
    "        print (string[i], end = \"\")\n",
    "        time.sleep(0.05)\n",
    "        i += 1\n",
    "    return\n",
    "\n",
    "\n",
    "typewriter(\"Hello World!\")\n",
    "typewriter?"
   ]
  },
  {
   "cell_type": "markdown",
   "id": "b8c2c5b5",
   "metadata": {},
   "source": [
    "---\n",
    "## Getting help in python\n",
    "Asides the library, we can also get help in python\n",
    "\n",
    "### Using help\n",
    "- We can use the help() function to get help on a function\n",
    "- For example, we can use help(len)\n",
    "\n",
    "### Using the ? operator\n",
    "- We can also use the '?' or '??' operator to get help on a function\n",
    "- For example, we can use len?\n",
    "\n",
    "They can also be used on user defined functions\n",
    "like i did in the module above\n",
    "\n",
    "---\n",
    "## Finding help online search\n",
    "- start the searc with the word \"python\"\n",
    " - for example, \"python array\", \"python list\", \"python string lowercase\""
   ]
  },
  {
   "cell_type": "code",
   "execution_count": 41,
   "id": "1be74bc1",
   "metadata": {},
   "outputs": [
    {
     "name": "stdout",
     "output_type": "stream",
     "text": [
      "Help on built-in function len in module builtins:\n",
      "\n",
      "len(obj, /)\n",
      "    Return the number of items in a container.\n",
      "\n"
     ]
    },
    {
     "name": "stdout",
     "output_type": "stream",
     "text": [
      "\u001b[1;31mSignature:\u001b[0m \u001b[0mlen\u001b[0m\u001b[1;33m(\u001b[0m\u001b[0mobj\u001b[0m\u001b[1;33m,\u001b[0m \u001b[1;33m/\u001b[0m\u001b[1;33m)\u001b[0m\u001b[1;33m\u001b[0m\u001b[1;33m\u001b[0m\u001b[0m\n",
      "\u001b[1;31mDocstring:\u001b[0m Return the number of items in a container.\n",
      "\u001b[1;31mType:\u001b[0m      builtin_function_or_method"
     ]
    }
   ],
   "source": [
    "#len?\n",
    "\n",
    "len??\n",
    "\n",
    "help(len)"
   ]
  },
  {
   "cell_type": "markdown",
   "id": "f482da57",
   "metadata": {},
   "source": [
    "---\n",
    "## Using the dir function\n",
    "- It lists all the functions in the module or package\n",
    "- For example, we can use dir()"
   ]
  },
  {
   "cell_type": "code",
   "execution_count": 48,
   "id": "96e00f03",
   "metadata": {},
   "outputs": [
    {
     "data": {
      "text/plain": [
       "['__call__',\n",
       " '__class__',\n",
       " '__delattr__',\n",
       " '__dir__',\n",
       " '__doc__',\n",
       " '__eq__',\n",
       " '__format__',\n",
       " '__ge__',\n",
       " '__getattribute__',\n",
       " '__getstate__',\n",
       " '__gt__',\n",
       " '__hash__',\n",
       " '__init__',\n",
       " '__init_subclass__',\n",
       " '__le__',\n",
       " '__lt__',\n",
       " '__module__',\n",
       " '__name__',\n",
       " '__ne__',\n",
       " '__new__',\n",
       " '__qualname__',\n",
       " '__reduce__',\n",
       " '__reduce_ex__',\n",
       " '__repr__',\n",
       " '__self__',\n",
       " '__setattr__',\n",
       " '__sizeof__',\n",
       " '__str__',\n",
       " '__subclasshook__',\n",
       " '__text_signature__']"
      ]
     },
     "execution_count": 48,
     "metadata": {},
     "output_type": "execute_result"
    }
   ],
   "source": [
    "dir(len)"
   ]
  },
  {
   "cell_type": "code",
   "execution_count": 49,
   "id": "710c1953",
   "metadata": {},
   "outputs": [
    {
     "data": {
      "text/plain": [
       "['__doc__',\n",
       " '__loader__',\n",
       " '__name__',\n",
       " '__package__',\n",
       " '__spec__',\n",
       " 'acos',\n",
       " 'acosh',\n",
       " 'asin',\n",
       " 'asinh',\n",
       " 'atan',\n",
       " 'atan2',\n",
       " 'atanh',\n",
       " 'cbrt',\n",
       " 'ceil',\n",
       " 'comb',\n",
       " 'copysign',\n",
       " 'cos',\n",
       " 'cosh',\n",
       " 'degrees',\n",
       " 'dist',\n",
       " 'e',\n",
       " 'erf',\n",
       " 'erfc',\n",
       " 'exp',\n",
       " 'exp2',\n",
       " 'expm1',\n",
       " 'fabs',\n",
       " 'factorial',\n",
       " 'floor',\n",
       " 'fmod',\n",
       " 'frexp',\n",
       " 'fsum',\n",
       " 'gamma',\n",
       " 'gcd',\n",
       " 'hypot',\n",
       " 'inf',\n",
       " 'isclose',\n",
       " 'isfinite',\n",
       " 'isinf',\n",
       " 'isnan',\n",
       " 'isqrt',\n",
       " 'lcm',\n",
       " 'ldexp',\n",
       " 'lgamma',\n",
       " 'log',\n",
       " 'log10',\n",
       " 'log1p',\n",
       " 'log2',\n",
       " 'modf',\n",
       " 'nan',\n",
       " 'nextafter',\n",
       " 'perm',\n",
       " 'pi',\n",
       " 'pow',\n",
       " 'prod',\n",
       " 'radians',\n",
       " 'remainder',\n",
       " 'sin',\n",
       " 'sinh',\n",
       " 'sqrt',\n",
       " 'sumprod',\n",
       " 'tan',\n",
       " 'tanh',\n",
       " 'tau',\n",
       " 'trunc',\n",
       " 'ulp']"
      ]
     },
     "execution_count": 49,
     "metadata": {},
     "output_type": "execute_result"
    }
   ],
   "source": [
    "import math\n",
    "\n",
    "dir(math)\n",
    "# will print all the functions in math in the form of a vertical list"
   ]
  },
  {
   "cell_type": "code",
   "execution_count": 50,
   "id": "ffc6f4b9",
   "metadata": {},
   "outputs": [
    {
     "name": "stdout",
     "output_type": "stream",
     "text": [
      "['__doc__', '__loader__', '__name__', '__package__', '__spec__', 'acos', 'acosh', 'asin', 'asinh', 'atan', 'atan2', 'atanh', 'cbrt', 'ceil', 'comb', 'copysign', 'cos', 'cosh', 'degrees', 'dist', 'e', 'erf', 'erfc', 'exp', 'exp2', 'expm1', 'fabs', 'factorial', 'floor', 'fmod', 'frexp', 'fsum', 'gamma', 'gcd', 'hypot', 'inf', 'isclose', 'isfinite', 'isinf', 'isnan', 'isqrt', 'lcm', 'ldexp', 'lgamma', 'log', 'log10', 'log1p', 'log2', 'modf', 'nan', 'nextafter', 'perm', 'pi', 'pow', 'prod', 'radians', 'remainder', 'sin', 'sinh', 'sqrt', 'sumprod', 'tan', 'tanh', 'tau', 'trunc', 'ulp']\n"
     ]
    }
   ],
   "source": [
    "import math\n",
    "\n",
    "print(dir(math)) # will print all the functions in math in the form of a horizontal list"
   ]
  },
  {
   "cell_type": "markdown",
   "id": "d0befeef",
   "metadata": {},
   "source": [
    "---\n",
    "## Multiple Print Arguements\n",
    "I just learned that you can give print() multiple things to print, and it prints them with spaces separating them "
   ]
  },
  {
   "cell_type": "code",
   "execution_count": 9,
   "id": "cc9c356d",
   "metadata": {},
   "outputs": [
    {
     "name": "stdout",
     "output_type": "stream",
     "text": [
      "hello 4 Ladadida world Ladadida 6000\n"
     ]
    }
   ],
   "source": [
    "s = \"Ladadida\"\n",
    "print (\"hello\",2 + 2, s , \"world\", s, 6000)"
   ]
  },
  {
   "cell_type": "markdown",
   "id": "13dc2b26",
   "metadata": {},
   "source": [
    "## Max and Min\n",
    "- max() is used to get the maximum value in a list\n",
    "- min() is used to get the minimum value in a list\n",
    "for example, max([1,2,3,4,5,6,7,8,9,10]) = 10\n",
    "min([1,2,3,4,5,6,7,8,9,10]) = 1"
   ]
  },
  {
   "cell_type": "code",
   "execution_count": 1,
   "id": "58604016",
   "metadata": {},
   "outputs": [
    {
     "name": "stdout",
     "output_type": "stream",
     "text": [
      "The maximum is 85\n",
      "The minimum is 2\n"
     ]
    }
   ],
   "source": [
    "#This program finds the maximum and minimum of a list of 5 numbers entered by the user\n",
    "def main():\n",
    "    numbers = [] #create an empty list\n",
    "    for i in range(5):\n",
    "        numbers.append(int(input(\"Enter a number: \")))\n",
    "    print(\"The maximum is\", max(numbers))\n",
    "    print(\"The minimum is\", min(numbers))\n",
    "    return\n",
    "\n",
    "if __name__ == '__main__': #call the main function if the program is run as a script\n",
    "    main()\n",
    "    "
   ]
  },
  {
   "cell_type": "markdown",
   "id": "f73bea99",
   "metadata": {},
   "source": [
    "## Types\n",
    "With python, you can check the type of a variable\n",
    "for example, `type(5) = int`"
   ]
  },
  {
   "cell_type": "code",
   "execution_count": 12,
   "id": "f4e8efa5",
   "metadata": {},
   "outputs": [
    {
     "name": "stdout",
     "output_type": "stream",
     "text": [
      "<class 'int'>\n",
      "<class 'float'>\n",
      "<class 'str'>\n",
      "<class 'bool'>\n",
      "<class 'NoneType'>\n",
      "<class 'complex'>\n",
      "<class 'float'>\n",
      "<class 'str'>\n",
      "<class 'function'>\n",
      "<class 'builtin_function_or_method'>\n",
      "<class 'type'>\n",
      "__main__\n"
     ]
    }
   ],
   "source": [
    "print(type(1))\n",
    "\n",
    "print(type(1.0))\n",
    "\n",
    "print(type(\"1\"))\n",
    "\n",
    "print(type(True))\n",
    "\n",
    "print(type(None))\n",
    "\n",
    "print(type(1 + 1j))\n",
    "\n",
    "print(type(1 + 1.0))\n",
    "\n",
    "print(type(__name__))\n",
    "\n",
    "print(type(main))\n",
    "\n",
    "print(type(print))\n",
    "\n",
    "print(type(type))\n",
    "\n",
    "print(__name__)"
   ]
  },
  {
   "cell_type": "markdown",
   "id": "f60e92f6",
   "metadata": {},
   "source": [
    "---\n",
    "## Changing the type\n",
    "- We can change the type of a variable\n",
    "- For example, we can change the type of a variable from int to float using int(numberInFloat)\n",
    "Same can be done for other types"
   ]
  },
  {
   "cell_type": "code",
   "execution_count": 13,
   "id": "b94fb9dd",
   "metadata": {},
   "outputs": [
    {
     "name": "stdout",
     "output_type": "stream",
     "text": [
      "2\n"
     ]
    }
   ],
   "source": [
    "'''\n",
    "Write a program to help you feed your friends at a party by doing some math about square pizzas.\n",
    "Assume the grader defines a string inputStr for you, which is a decimal string meaning the side length L of the pizza in cm.\n",
    "The area of the pizza should be computed using the formula A = L*L.\n",
    "Then, assuming that each person needs to eat 100 cm2 of pizza, compute the number of people it can feed, rounded down to the nearest integer.\n",
    "'''\n",
    "\n",
    "inputStr = 15.4\n",
    "L = inputStr\n",
    "A = float(L) * float(L)\n",
    "people = float(A/100)\n",
    "print (int(people))"
   ]
  },
  {
   "cell_type": "markdown",
   "id": "d9a1320d",
   "metadata": {},
   "source": [
    "---\n",
    "## Input\n",
    "- we can do this using the `input()` function to get input from user and store into a variable"
   ]
  },
  {
   "cell_type": "code",
   "execution_count": 15,
   "id": "ff164b43",
   "metadata": {},
   "outputs": [
    {
     "name": "stdout",
     "output_type": "stream",
     "text": [
      "Hello  Akujobi, John\n"
     ]
    }
   ],
   "source": [
    "firstname = input(\"Enter your first name: \" )\n",
    "lastname = input(\"Enter your last name: \" )\n",
    "\n",
    "print(\"Hello \", lastname + \", \" + firstname)"
   ]
  },
  {
   "cell_type": "markdown",
   "id": "1444f7da",
   "metadata": {},
   "source": [
    "---\n",
    "## If statements\n",
    "Its just like in c++, except that it ends with a colon and not a curly brace\n",
    "You can use `if(condition):`, `elif(condition):`, `else:`\n",
    "The things inside the if statement should be indented inwards by 4 spaces\n",
    "- Uses `:` instead of `{}`\n",
    "\n",
    "- Also, python accepts `elif` as an alternative to `else if`\n",
    "- And it uses `and` and `or` as an alternative to `&&` and `||`\n",
    "- `not` is an alternative to `!`\n",
    "- you can also use `if condition:` without the brackets\n",
    "\n",
    "### My choice\n",
    "- I will use the conditions with brackets to make it easier to read and to make it similar to c++\n",
    "- Use `elif` as an alternative to `else if` \n",
    "\n",
    "## Boolean Operators\n",
    "- x == y is the equality operator, it returns True if x and y are equal\n",
    "- x != y is the not-equal operator, it returns True if x and y are not equal\n",
    "- == and != also work for strings and other types of data\n",
    "- >, <, <=, and >= compare two numbers and give back a bool\n"
   ]
  },
  {
   "cell_type": "code",
   "execution_count": 16,
   "id": "00456090",
   "metadata": {},
   "outputs": [
    {
     "name": "stdout",
     "output_type": "stream",
     "text": [
      "Yum!\n"
     ]
    }
   ],
   "source": [
    "pancakes = int(input())\n",
    "if (pancakes > 3):\n",
    "    print(\"Yum!\")\n",
    "else:\n",
    "    print (\"Still hungry!\")"
   ]
  },
  {
   "cell_type": "code",
   "execution_count": 17,
   "id": "31fade57",
   "metadata": {},
   "outputs": [
    {
     "name": "stdout",
     "output_type": "stream",
     "text": [
      "Positive\n"
     ]
    }
   ],
   "source": [
    "'''\n",
    "Write a program that reads an integer from input, then outputs one of the capitalized words\n",
    "Positive, Negative, or Zero according to whether the number is positive, negative, or zero.\n",
    "'''\n",
    "\n",
    "x=int(input())\n",
    "if (x > 0): print(\"Positive\")\n",
    "elif (x < 0): print (\"Negative\")\n",
    "elif (x == 0): print (\"Zero\")\n",
    "else: print(\"ummm...we've got a problem\")"
   ]
  },
  {
   "cell_type": "code",
   "execution_count": null,
   "id": "e923334b",
   "metadata": {},
   "outputs": [],
   "source": [
    "'''\n",
    "Write a program that reads an integer from input, representing someone's age.\n",
    "If the age is 18 or larger, print out You can vote.\n",
    "If the age is between 0 and 17 inclusive, print out Too young to vote.\n",
    "If the age is less than 0, print out You are a time traveller.\n",
    "'''\n",
    "\n",
    "age = int(input())\n",
    "if (age >= 18): print (\"You can vote\")\n",
    "elif (age >= 0 and age <= 17): print (\"Too young to vote\")\n",
    "elif (age < 0): print (\"You are a time traveller\")\n"
   ]
  },
  {
   "cell_type": "markdown",
   "id": "e4a4721c",
   "metadata": {},
   "source": [
    "---\n",
    "## Friendly package\n",
    "This package gives very useful feedback for errors in python"
   ]
  },
  {
   "cell_type": "code",
   "execution_count": 8,
   "id": "b4ed4585",
   "metadata": {},
   "outputs": [
    {
     "ename": "SyntaxError",
     "evalue": "invalid syntax. Perhaps you forgot a comma? (3418475662.py, line 3)",
     "output_type": "error",
     "traceback": [
      "\u001b[1;36m  Cell \u001b[1;32mIn[8], line 3\u001b[1;36m\u001b[0m\n\u001b[1;33m    print(Hello World!)\u001b[0m\n\u001b[1;37m          ^\u001b[0m\n\u001b[1;31mSyntaxError\u001b[0m\u001b[1;31m:\u001b[0m invalid syntax. Perhaps you forgot a comma?\n"
     ]
    }
   ],
   "source": [
    "import friendly\n",
    "\n",
    "print(Hello World!)"
   ]
  },
  {
   "cell_type": "markdown",
   "id": "e57551a1",
   "metadata": {},
   "source": [
    "---\n",
    "## Strings\n",
    "\n",
    "- `\"\"\"` is used to make a multiline string\n",
    "- `len(nameOfString)` gives the length of the string\n",
    "- `nameOfString[0]` gives the first character of the string\n",
    "- `nameOfString[-1]`  gives the last character of the string\n",
    "- `nameOfString[0:3]` gives the first 3 characters of the string\n",
    "- `nameOfString[3:]` gives the string from the 3rd character to the end\n",
    "- `nameOfString[:3]` gives the string from the start to the 3rd character\n",
    "- `nameOfString[3:5]` gives the string from the 3rd character to the 5th character\n",
    "- `nameOfString[3:5:2]` gives the string from the 3rd character to the 5th character, with a step size of 2\n",
    "- \"\"\"nameOfString\"\"\" is used to make a multiline string\n",
    "\n",
    "### Raw Literals\n",
    "- `r` or `R`is used to make a string raw\n",
    "- This is useful if you want to use backslashes in the string without having to escape them\n",
    "- eg nameOfString = r\"Hello\" rgwgg\" \\World\\!\""
   ]
  },
  {
   "cell_type": "code",
   "execution_count": 13,
   "id": "ce880c8f",
   "metadata": {},
   "outputs": [
    {
     "name": "stdout",
     "output_type": "stream",
     "text": [
      "Hello\\\" rgwgg\\\" \\World\\!\n",
      "C:\\Users\\rgwgg\\Desktop\\test.txt\n"
     ]
    }
   ],
   "source": [
    "nameOfString = r\"Hello\\\" rgwgg\\\" \\World\\!\"\n",
    "file_path = r\"C:\\Users\\rgwgg\\Desktop\\test.txt\"\n",
    "\n",
    "print(nameOfString)\n",
    "print (file_path)"
   ]
  },
  {
   "cell_type": "code",
   "execution_count": 2,
   "id": "cd46dd70",
   "metadata": {},
   "outputs": [
    {
     "name": "stdout",
     "output_type": "stream",
     "text": [
      "76127\n"
     ]
    }
   ],
   "source": [
    "#Program that finds the sum of all prime numbers under 1000\n",
    "\n",
    "def isPrime(n):\n",
    "    if n == 1: return False\n",
    "    for i in range(2, n):\n",
    "        if n % i == 0: return False\n",
    "    return True\n",
    "\n",
    "\n",
    "sum = 0\n",
    "\n",
    "for i in range(1, 1000):\n",
    "    if isPrime(i): sum += i\n",
    "print(sum)"
   ]
  },
  {
   "cell_type": "code",
   "execution_count": 4,
   "id": "a45bb910",
   "metadata": {},
   "outputs": [
    {
     "name": "stdout",
     "output_type": "stream",
     "text": [
      "0.464\n"
     ]
    }
   ],
   "source": [
    "#use random match probability to calculate the probability of a match.\n",
    "#using a U statistic approach, do a 500 interaction on 3000 individuals using montecarlo simulation\n",
    "\n",
    "import random\n",
    "\n",
    "def random_match_probability(n):\n",
    "    count = 0\n",
    "    for i in range(n):\n",
    "        if random.random() < 0.5:\n",
    "            count += 1\n",
    "    return count/n\n",
    "\n",
    "\n",
    "def montecarlo_simulation(n, m):\n",
    "    count = 0\n",
    "    for i in range(m):\n",
    "        if random_match_probability(n) > 0.5:\n",
    "            count += 1\n",
    "    return count/m\n",
    "\n",
    "\n",
    "print(montecarlo_simulation(3000, 500))"
   ]
  },
  {
   "cell_type": "code",
   "execution_count": 1,
   "id": "549e377f",
   "metadata": {},
   "outputs": [
    {
     "name": "stdout",
     "output_type": "stream",
     "text": [
      "The area of the circle is: 314.1592653589793\n"
     ]
    }
   ],
   "source": [
    "#Write a program that calculates the area of a circle\n",
    "\n",
    "import math\n",
    "\n",
    "radius = float(input(\"Enter the radius of the circle: \"))\n",
    "\n",
    "area = math.pi * radius ** 2\n",
    "\n",
    "print(\"The area of the circle is:\", area)\n",
    "\n",
    "#Enter the radius of the circle: 5"
   ]
  }
 ],
 "metadata": {
  "kernelspec": {
   "display_name": "Python 3 (ipykernel)",
   "language": "python",
   "name": "python3"
  },
  "language_info": {
   "codemirror_mode": {
    "name": "ipython",
    "version": 3
   },
   "file_extension": ".py",
   "mimetype": "text/x-python",
   "name": "python",
   "nbconvert_exporter": "python",
   "pygments_lexer": "ipython3",
   "version": "3.12.1"
  }
 },
 "nbformat": 4,
 "nbformat_minor": 5
}
